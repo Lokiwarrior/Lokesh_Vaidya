{
 "cells": [
  {
   "cell_type": "code",
   "execution_count": 113,
   "id": "d54305d7-1079-40b2-9099-be158a27de23",
   "metadata": {},
   "outputs": [],
   "source": [
    "def pangram(words):\n",
    "    list1=[\"a\",\"b\",\"c\",\"d\",\"e\",\"f\",\"g\",\"h\",\"i\",\"j\",\"k\",\"l\",\"m\",\"n\",\"o\",\"p\",\"q\",\"r\",\"s\",\"t\",\"u\",\"v\",\"w\",\"x\",\"y\",\"z\"]\n",
    "    c=[]\n",
    "    d=[]\n",
    "    for i in list1:\n",
    "        #for j in A:\n",
    "            for j in words:\n",
    "                if i in j:\n",
    "                    continue\n",
    "                #print('it is a pangram:')\n",
    "                \n",
    "                else:\n",
    "                    d.append(i)\n",
    "                #print('not:')\n",
    "                break\n",
    "\n",
    "    print('Words missing: ',d)\n"
   ]
  },
  {
   "cell_type": "code",
   "execution_count": 114,
   "id": "e296013a-8387-4d78-a1bc-6f5a03131823",
   "metadata": {},
   "outputs": [
    {
     "name": "stdin",
     "output_type": "stream",
     "text": [
      "Enter the sentence: thequickfoxbrownjumpsoverthe\n"
     ]
    },
    {
     "name": "stdout",
     "output_type": "stream",
     "text": [
      "Words missing:  ['a', 'd', 'g', 'l', 'y', 'z']\n"
     ]
    }
   ],
   "source": [
    "word=input('Enter the sentence without spaces:').split()\n",
    "pangram(word)"
   ]
  },
  {
   "cell_type": "code",
   "execution_count": 80,
   "id": "85cd8515-8084-4bc7-89ce-376e614af1be",
   "metadata": {},
   "outputs": [],
   "source": [
    "\n",
    "#2 Inventory Management System\n"
   ]
  },
  {
   "cell_type": "code",
   "execution_count": null,
   "id": "50f42695-8d0f-4110-8135-28af983930c4",
   "metadata": {},
   "outputs": [],
   "source": []
  }
 ],
 "metadata": {
  "kernelspec": {
   "display_name": "Python 3 (ipykernel)",
   "language": "python",
   "name": "python3"
  },
  "language_info": {
   "codemirror_mode": {
    "name": "ipython",
    "version": 3
   },
   "file_extension": ".py",
   "mimetype": "text/x-python",
   "name": "python",
   "nbconvert_exporter": "python",
   "pygments_lexer": "ipython3",
   "version": "3.13.2"
  }
 },
 "nbformat": 4,
 "nbformat_minor": 5
}
